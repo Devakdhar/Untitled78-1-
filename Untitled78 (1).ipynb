{
 "cells": [
  {
   "cell_type": "code",
   "execution_count": 3,
   "id": "8489d684-31ba-4d7a-81c4-03c9c049aca7",
   "metadata": {},
   "outputs": [
    {
     "name": "stdin",
     "output_type": "stream",
     "text": [
      "feedback the number of student1 3\n",
      "feedback the number of student2 4\n",
      "feedback the number of student3 5\n",
      "feedback the number of student4 2\n",
      "feedback the number of student5 1\n"
     ]
    },
    {
     "name": "stdout",
     "output_type": "stream",
     "text": [
      "its a bad below\n"
     ]
    }
   ],
   "source": [
    "student1=int(input(\"feedback the number of student1\"))\n",
    "student2=int(input(\"feedback the number of student2\"))\n",
    "student3=int(input(\"feedback the number of student3\"))\n",
    "student4=int(input(\"feedback the number of student4\"))\n",
    "student5=int(input(\"feedback the number of student5\"))\n",
    "Averagefeedback=(student1+student2+student3+student4+student5)/5\n",
    "\n",
    "if (Averagefeedback>4):\n",
    "     Print(\"its a good\")\n",
    "elif (Averagefeedback>3):\n",
    "    print(\"its a Average\")\n",
    "elif (Averagefeedback>2):\n",
    "    print(\"its a bad below\")\n",
    "else:\n",
    "    print(\"change the trainer\")"
   ]
  },
  {
   "cell_type": "code",
   "execution_count": null,
   "id": "4b264f16-9f48-4cd9-978c-4164b68705b7",
   "metadata": {},
   "outputs": [],
   "source": []
  }
 ],
 "metadata": {
  "kernelspec": {
   "display_name": "Python 3 (ipykernel)",
   "language": "python",
   "name": "python3"
  },
  "language_info": {
   "codemirror_mode": {
    "name": "ipython",
    "version": 3
   },
   "file_extension": ".py",
   "mimetype": "text/x-python",
   "name": "python",
   "nbconvert_exporter": "python",
   "pygments_lexer": "ipython3",
   "version": "3.12.4"
  }
 },
 "nbformat": 4,
 "nbformat_minor": 5
}
